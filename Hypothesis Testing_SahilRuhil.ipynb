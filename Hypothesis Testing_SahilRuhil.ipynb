{
 "cells": [
  {
   "cell_type": "markdown",
   "id": "5946eb07",
   "metadata": {},
   "source": [
    "# 1) Stating the Hypothesis statement: "
   ]
  },
  {
   "cell_type": "markdown",
   "id": "fc9d4c8d",
   "metadata": {},
   "source": [
    "To investigate whether the weekly operating costs are higher than the theoretical model, we can set up the hypotheses as follows:\n",
    "\n",
    "1) Null Hypothesis(H0) : The average weekly operating cost follows the theoretical model, \n",
    "      𝜇 = 1000+5*600=4000\n",
    "      \n",
    "2) Alternative Hypothesis (H1): The average weekly operating cost is higher than the model,  \n",
    "      𝜇 > 4000\n"
   ]
  },
  {
   "cell_type": "markdown",
   "id": "dd9aba33",
   "metadata": {},
   "source": [
    "# 2) Calculate the Test Statistic: "
   ]
  },
  {
   "cell_type": "markdown",
   "id": "1bfabe91",
   "metadata": {},
   "source": [
    "Given: sample mean = 3050\n",
    "       theoritical mean = 4000\n",
    "       Standard deviation of weekly operating cost ,𝜎 =5*25 = 125 \n",
    "       Sample size = 25\n",
    "        \n",
    "        \n",
    "        t= (3050-4000)/(125/sqrt25)\n",
    "          = -38\n"
   ]
  },
  {
   "cell_type": "markdown",
   "id": "d390d250",
   "metadata": {},
   "source": [
    "# 3) Determining the Critical Value: "
   ]
  },
  {
   "cell_type": "markdown",
   "id": "5cab712a",
   "metadata": {},
   "source": [
    "For a significance level of ,α= 0.05 nd a one-tailed test, we look up the critical value for 𝑍 (or t if we assume the sample standard deviation isn’t known).\n",
    "\n",
    "From the standard normal distribution table:\n",
    "\n",
    "Z(0.05) = 1.645"
   ]
  },
  {
   "cell_type": "markdown",
   "id": "22c2d9b4",
   "metadata": {},
   "source": [
    "# 4) Decision Making:\n"
   ]
  },
  {
   "cell_type": "markdown",
   "id": "7733b20e",
   "metadata": {},
   "source": [
    "Decision Rule: If the calculated test statistic t is greater than Z(0.05) = 1.645 reject the null hypothesis.\n",
    "\n",
    "\n",
    "\n"
   ]
  },
  {
   "cell_type": "markdown",
   "id": "bf151978",
   "metadata": {},
   "source": [
    "# 5) Conclusion:"
   ]
  },
  {
   "cell_type": "markdown",
   "id": "6e7d8f1a",
   "metadata": {},
   "source": [
    "Since the test statistic is significantly lower than the critical value, this provides strong evidence to reject the null hypothesis and conclude that weekly operating costs are indeed higher than the theoretical model suggests."
   ]
  },
  {
   "cell_type": "code",
   "execution_count": 3,
   "id": "d062cef1",
   "metadata": {},
   "outputs": [],
   "source": [
    "import math"
   ]
  },
  {
   "cell_type": "code",
   "execution_count": 4,
   "id": "a2ecd967",
   "metadata": {},
   "outputs": [],
   "source": [
    "# Given data\n",
    "sample_mean = 3050\n",
    "theoretical_mean = 4000\n",
    "std_dev = 125\n",
    "n = 25\n",
    "alpha = 0.05"
   ]
  },
  {
   "cell_type": "code",
   "execution_count": 5,
   "id": "15fd72f8",
   "metadata": {},
   "outputs": [],
   "source": [
    "# Calculating  the test statistic\n",
    "\n",
    "t_statistic = (sample_mean - theoretical_mean) / (std_dev / math.sqrt(n))"
   ]
  },
  {
   "cell_type": "code",
   "execution_count": 6,
   "id": "d06121f0",
   "metadata": {},
   "outputs": [],
   "source": [
    "# Determining the critical value\n",
    "\n",
    "critical_value = 1.645 "
   ]
  },
  {
   "cell_type": "code",
   "execution_count": 7,
   "id": "8c4dc03d",
   "metadata": {},
   "outputs": [
    {
     "name": "stdout",
     "output_type": "stream",
     "text": [
      "Fail to reject the null hypothesis: No sufficient evidence to suggest an increase in weekly operating costs.\n"
     ]
    }
   ],
   "source": [
    "# Decision and Conclusion\n",
    "\n",
    "if t_statistic > critical_value:\n",
    "    print(\"Reject the null hypothesis: There is evidence that weekly operating costs are higher than predicted.\")\n",
    "else:\n",
    "    print(\"Fail to reject the null hypothesis: No sufficient evidence to suggest an increase in weekly operating costs.\")"
   ]
  },
  {
   "cell_type": "code",
   "execution_count": 8,
   "id": "e9e76cd0",
   "metadata": {},
   "outputs": [
    {
     "name": "stdout",
     "output_type": "stream",
     "text": [
      "Test Statistic: -38.0\n",
      "Critical Value: 1.645\n"
     ]
    }
   ],
   "source": [
    "# Output the test statistic and critical value\n",
    "\n",
    "print(\"Test Statistic:\", t_statistic)\n",
    "print(\"Critical Value:\", critical_value)"
   ]
  },
  {
   "cell_type": "code",
   "execution_count": null,
   "id": "e57b9341",
   "metadata": {},
   "outputs": [],
   "source": []
  }
 ],
 "metadata": {
  "kernelspec": {
   "display_name": "Python 3 (ipykernel)",
   "language": "python",
   "name": "python3"
  },
  "language_info": {
   "codemirror_mode": {
    "name": "ipython",
    "version": 3
   },
   "file_extension": ".py",
   "mimetype": "text/x-python",
   "name": "python",
   "nbconvert_exporter": "python",
   "pygments_lexer": "ipython3",
   "version": "3.11.5"
  }
 },
 "nbformat": 4,
 "nbformat_minor": 5
}
